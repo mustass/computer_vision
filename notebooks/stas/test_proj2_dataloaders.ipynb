{
 "cells": [
  {
   "cell_type": "code",
   "execution_count": 1,
   "metadata": {},
   "outputs": [],
   "source": [
    "import glob\n",
    "from hydra import compose, initialize\n",
    "import numpy as np\n",
    "import pandas as pd\n",
    "import torch\n",
    "import yaml\n",
    "from omegaconf import DictConfig, OmegaConf\n",
    "from dl4cv.utils.utils import set_seed\n",
    "from dl4cv.lightning_classes.plmodel import LitCVModel\n",
    "from dl4cv.datasets import build_ph2, build_drive\n",
    "from tqdm import tqdm\n",
    "import os\n",
    "import matplotlib.pyplot as plt"
   ]
  },
  {
   "cell_type": "code",
   "execution_count": 2,
   "metadata": {},
   "outputs": [],
   "source": [
    "from dl4cv.utils.utils import set_seed"
   ]
  },
  {
   "cell_type": "code",
   "execution_count": 3,
   "metadata": {},
   "outputs": [
    {
     "name": "stderr",
     "output_type": "stream",
     "text": [
      "/tmp/ipykernel_121258/3639323509.py:1: UserWarning: \n",
      "The version_base parameter is not specified.\n",
      "Please specify a compatability version level, or None.\n",
      "Will assume defaults for version 1.1\n",
      "  initialize(config_path=\"../dl4cv02514/configs\")\n"
     ]
    }
   ],
   "source": [
    "initialize(config_path=\"../dl4cv02514/configs\")\n",
    "cfg = compose(config_name=\"config_ph2_training\")\n"
   ]
  },
  {
   "cell_type": "code",
   "execution_count": 4,
   "metadata": {},
   "outputs": [],
   "source": [
    "train,val,test = build_ph2(cfg)\n",
    "loader = torch.utils.data.DataLoader(\n",
    "    train,\n",
    "    batch_size=6,\n",
    "    num_workers=1,\n",
    "    shuffle=False,\n",
    ")"
   ]
  },
  {
   "cell_type": "code",
   "execution_count": 5,
   "metadata": {},
   "outputs": [
    {
     "name": "stdout",
     "output_type": "stream",
     "text": [
      "Inputs shape: torch.Size([6, 3, 512, 512])\n",
      "Tagets shape: torch.Size([6, 1, 512, 512])\n"
     ]
    }
   ],
   "source": [
    "batch = next(iter(loader))\n",
    "print(f'Inputs shape: {batch[0].shape}')\n",
    "print(f'Tagets shape: {batch[1].shape}')"
   ]
  },
  {
   "cell_type": "code",
   "execution_count": 6,
   "metadata": {},
   "outputs": [],
   "source": [
    "cfg.datamodule.params.split[0] = 14\n",
    "cfg.datamodule.params.split[1] = 3\n",
    "cfg.datamodule.params.path = '/dtu/datasets1/02514/DRIVE'"
   ]
  },
  {
   "cell_type": "code",
   "execution_count": 7,
   "metadata": {},
   "outputs": [],
   "source": [
    "train,val,test = build_drive(cfg)\n",
    "loader = torch.utils.data.DataLoader(\n",
    "    train,\n",
    "    batch_size=6,\n",
    "    num_workers=1,\n",
    "    shuffle=False,\n",
    ")"
   ]
  },
  {
   "cell_type": "code",
   "execution_count": 8,
   "metadata": {},
   "outputs": [
    {
     "name": "stdout",
     "output_type": "stream",
     "text": [
      "Inputs shape: torch.Size([6, 3, 512, 512])\n",
      "Tagets shape: torch.Size([6, 1, 512, 512])\n"
     ]
    }
   ],
   "source": [
    "batch = next(iter(loader))\n",
    "print(f'Inputs shape: {batch[0].shape}')\n",
    "print(f'Tagets shape: {batch[1].shape}')"
   ]
  },
  {
   "cell_type": "code",
   "execution_count": null,
   "metadata": {},
   "outputs": [],
   "source": []
  }
 ],
 "metadata": {
  "kernelspec": {
   "display_name": "Python 3 (ipykernel)",
   "language": "python",
   "name": "python3"
  },
  "orig_nbformat": 4
 },
 "nbformat": 4,
 "nbformat_minor": 2
}
