{
 "cells": [
  {
   "cell_type": "code",
   "execution_count": 1,
   "metadata": {},
   "outputs": [],
   "source": [
    "import argparse\n",
    "import glob\n",
    "from hydra import compose, initialize\n",
    "import hydra\n",
    "import numpy as np\n",
    "import pandas as pd\n",
    "import torch\n",
    "import yaml\n",
    "from omegaconf import DictConfig, OmegaConf\n",
    "from dl4cv.utils.utils import set_seed\n",
    "from dl4cv.lightning_classes.plmodel import LitODModel\n",
    "from dl4cv.datasets import build_taco \n",
    "from dl4cv.datasets.taco_data import taco_val_test_collate_fn\n",
    "from dl4cv.utils.object_detect_utils import get_iou, fix_orientation, mAP_calc, calc_total_mAP\n",
    "from tqdm import tqdm\n",
    "import os\n"
   ]
  },
  {
   "cell_type": "code",
   "execution_count": 2,
   "metadata": {},
   "outputs": [],
   "source": [
    "hydra.core.global_hydra.GlobalHydra.instance().clear()\n",
    "initialize(config_path=\"./configs\")\n",
    "inference_cfg = compose(config_name=\"config_taco_training\")\n",
    "inference_cfg[\"inference\"][\"run_name\"] = 'Resnet50_Whale_bs1'\n",
    "inference_cfg[\"inference\"][\"device\"] = 'cuda:1'\n",
    "path = f\"outputs/{inference_cfg.inference.run_name}/.hydra/config.yaml\"\n",
    "with open(path) as cfg:\n",
    "    cfg_yaml = yaml.safe_load(cfg)\n",
    "cfg_yaml[\"inference\"] = inference_cfg[\"inference\"]\n",
    "cfg_yaml[\"datamodule\"][\"test\"][\"params\"][\"num_to_return\"] = 100\n",
    "cfg = OmegaConf.create(cfg_yaml)\n"
   ]
  },
  {
   "cell_type": "code",
   "execution_count": 3,
   "metadata": {},
   "outputs": [],
   "source": [
    "def main(cfg: DictConfig) -> None:\n",
    "    \"\"\"\n",
    "    Run pytorch-lightning model inference\n",
    "    Args:\n",
    "        cfg: hydra config\n",
    "    Returns:\n",
    "        None\n",
    "    \"\"\"\n",
    "    set_seed(cfg.training.seed)\n",
    "\n",
    "    device = torch.device(cfg.inference.device)\n",
    "\n",
    "    model_names = glob.glob(f\"outputs/{cfg.inference.run_name}/saved_models/*.ckpt\")\n",
    "    _, _, test_set, inference_set = build_taco(cfg)\n",
    "    inference_set.num_to_return = 1024\n",
    "    loader = torch.utils.data.DataLoader(\n",
    "        inference_set,\n",
    "        collate_fn=taco_val_test_collate_fn,\n",
    "        batch_size=1,\n",
    "        num_workers=1,\n",
    "        shuffle=False,\n",
    "    )\n",
    "    lit_model = LitODModel.load_from_checkpoint(checkpoint_path=model_names[0], cfg=cfg)\n",
    "    lit_model.to(device)\n",
    "    predictions = []\n",
    "    for batch in tqdm(loader):\n",
    "        # move batch elements to device\n",
    "        batch = tuple(b.to(device) for b in batch)\n",
    "        predictions.append(\n",
    "            lit_model.nms_on_image(\n",
    "                batch,\n",
    "            )\n",
    "        )\n",
    "\n",
    "    return predictions\n",
    "\n",
    "\n"
   ]
  },
  {
   "cell_type": "code",
   "execution_count": 4,
   "metadata": {},
   "outputs": [],
   "source": [
    "predictions = main(cfg)"
   ]
  },
  {
   "cell_type": "code",
   "execution_count": null,
   "metadata": {},
   "outputs": [],
   "source": [
    "# find an index in predictions where the kept_preds are not empty\n",
    "# valids = []\n",
    "# for i in range(len(predictions)):\n",
    "#     if len(predictions[i]['kept_preds']) > 0:\n",
    "#         valids.append(i)"
   ]
  },
  {
   "cell_type": "code",
   "execution_count": null,
   "metadata": {},
   "outputs": [],
   "source": [
    "#predictions[4]"
   ]
  },
  {
   "cell_type": "code",
   "execution_count": null,
   "metadata": {},
   "outputs": [],
   "source": [
    "pred = []\n",
    "truth = []\n",
    "\n",
    "for i in range(len(predictions)):\n",
    "    if len(predictions[i]['kept_preds']) > 0:\n",
    "        pred.append(predictions[i]['kept_preds'])\n",
    "        _gt_boxes = predictions[i]['gt_regions']\n",
    "        _gt_classes = predictions[i]['gt_labels']\n",
    "        _truth = []\n",
    "        for j in range(len(_gt_boxes)):\n",
    "            _box = {'x1':_gt_boxes[j][0].item(), 'x2':_gt_boxes[j][1].item(), 'y1':_gt_boxes[j][2].item(), 'y2':_gt_boxes[j][3].item()}\n",
    "            _class = _gt_classes[j].item()\n",
    "            _truth.append({'bbox':_box, 'pred_class':_class})\n",
    "        truth.append(_truth)"
   ]
  },
  {
   "cell_type": "code",
   "execution_count": null,
   "metadata": {},
   "outputs": [
    {
     "name": "stdout",
     "output_type": "stream",
     "text": [
      "Image mAPs: {0: {12: 0}, 1: {0: 0, 25: 0, 2: 0}, 2: {17: 0, 27: 1, 4: 0}, 3: {4: 0, 9: 1, 19: 0, 20: 0, 24: 0}, 4: {0: 0, 2: 1}, 5: {8: 1, 9: 1}, 6: {9: 1, 19: 1}, 7: {8: 0, 4: 0}, 8: {21: 0}, 9: {8: 0, 4: 0}, 10: {17: 0, 27: 0}, 11: {2: 0}, 12: {9: 0, 11: 0}, 13: {17: 1}, 14: {2: 0}, 15: {8: 0, 26: 0, 20: 0}, 16: {8: 1, 4: 1}, 17: {26: 0}, 18: {9: 1, 2: 0}, 19: {0: 0, 1: 0, 2: 0, 4: 0, 9: 0, 17: 0}, 20: {0: 0, 9: 0, 11: 0}, 21: {6: 0}, 22: {8: 0}, 23: {0: 0, 12: 0, 21: 0}, 24: {2: 0}, 25: {8: 0, 9: 0.5, 4: 1}, 26: {4: 0}, 27: {8: 0, 20: 1, 4: 0}, 28: {12: 0}, 29: {12: 0}, 30: {2: 0}, 31: {20: 1}, 32: {9: 0}, 33: {2: 0}, 34: {9: 0}, 35: {0: 0, 8: 0}, 36: {0: 0, 23: 0}, 37: {0: 0, 9: 0, 11: 0, 20: 0, 27: 0}, 38: {0: 0, 4: 1}, 39: {2: 0}, 40: {2: 0, 6: 0, 9: 0, 23: 1, 27: 0}, 41: {8: 0, 17: 0, 20: 0, 21: 0, 23: 0, 27: 0}, 42: {21: 0}, 43: {0: 0, 2: 0, 4: 0, 20: 0, 24: 0}, 44: {9: 0, 2: 0, 23: 0}, 45: {18: 0, 21: 0}, 46: {12: 1}, 47: {8: 0.5, 4: 0}, 48: {8: 0, 9: 0, 4: 0, 24: 0}, 49: {2: 0}, 50: {8: 0}, 51: {26: 1}, 52: {2: 0}, 53: {8: 1, 27: 0}, 54: {2: 0}, 55: {0: 0}, 56: {21: 1, 14: 0}, 57: {8: 0}, 58: {2: 0, 4: 0, 8: 1, 11: 0, 18: 0, 21: 0, 24: 0}, 59: {0: 0, 2: 0, 4: 0, 6: 0, 8: 0, 9: 0, 11: 0, 12: 0, 23: 0, 26: 0, 27: 0}, 60: {8: 0, 17: 0, 27: 1, 21: 0}, 61: {2: 0}, 62: {4: 1}, 63: {27: 0}, 64: {8: 0, 2: 0}, 65: {17: 0, 2: 0, 27: 0}, 66: {0: 0, 8: 0, 4: 0}, 67: {9: 0, 2: 0}, 68: {24: 1, 11: 0}, 69: {16: 0, 19: 1}, 70: {0: 0, 8: 0, 17: 1, 21: 0, 23: 0, 26: 0, 27: 0.25}, 71: {12: 0}, 72: {0: 0, 2: 0, 4: 0, 8: 0, 21: 0}, 73: {21: 1}, 74: {11: 0}, 75: {9: 1, 2: 0}, 76: {0: 0, 19: 1}, 77: {2: 1, 20: 0, 23: 0}, 78: {27: 0}, 79: {12: 0}, 80: {8: 1, 4: 0}, 81: {2: 1, 4: 0, 8: 0, 9: 0.14285714285714285, 18: 0, 23: 0}, 82: {19: 0, 12: 0}, 83: {2: 0}, 84: {9: 0, 19: 0}, 85: {2: 0, 11: 0}, 86: {9: 1, 2: 0}, 87: {0: 0}, 88: {27: 1}, 89: {21: 1}, 90: {0: 0, 2: 0}, 91: {26: 1, 27: 0}, 92: {18: 1}, 93: {8: 1, 0: 0, 20: 0, 9: 0}, 94: {8: 0}, 95: {2: 0, 26: 0}, 96: {0: 0, 8: 0}, 97: {4: 0}, 98: {8: 0}, 99: {2: 0, 19: 0}, 100: {27: 0, 11: 0}, 101: {2: 0}, 102: {2: 0}, 103: {0: 0, 2: 1, 4: 0, 8: 0, 17: 0, 23: 0, 26: 0}, 104: {2: 0}, 105: {2: 0}, 106: {2: 1}, 107: {27: 1, 20: 0}, 108: {26: 0}, 109: {21: 0}, 110: {0: 0, 2: 0}, 111: {0: 0, 2: 0, 4: 0, 7: 0, 8: 0, 9: 0, 11: 0}, 112: {9: 0, 2: 0}, 113: {8: 1}, 114: {0: 0, 8: 0}, 115: {8: 1, 0: 0, 12: 0, 20: 0}, 116: {0: 0, 9: 0, 12: 0, 20: 0, 26: 0}, 117: {9: 0}, 118: {9: 0, 26: 0}, 119: {8: 0, 9: 1, 24: 0}, 120: {0: 0, 2: 0, 19: 0}, 121: {18: 0, 21: 0}, 122: {2: 0, 9: 0, 12: 0, 17: 0, 23: 0, 27: 1}, 123: {2: 1}, 124: {12: 0}, 125: {20: 0, 23: 0}, 126: {8: 1, 2: 0}, 127: {2: 0}, 128: {8: 0, 2: 0, 12: 0, 15: 0}, 129: {18: 0, 21: 0}, 130: {20: 0, 21: 0}, 131: {21: 1}, 132: {2: 0}, 133: {20: 0, 23: 1}, 134: {9: 0}, 135: {19: 0}, 136: {2: 0, 27: 0, 14: 0}, 137: {8: 0, 20: 0.14285714285714285}, 138: {2: 0}, 139: {0: 0, 1: 0, 2: 0, 9: 0, 19: 1}, 140: {2: 1}, 141: {2: 0, 20: 0}, 142: {9: 0, 21: 0}, 143: {19: 0, 12: 0}, 144: {4: 0}, 145: {11: 0, 2: 0, 26: 1, 20: 0}, 146: {2: 1, 23: 0}, 147: {17: 0, 27: 0}, 148: {8: 0, 4: 0}, 149: {19: 1}, 150: {19: 0, 2: 1, 11: 1, 23: 0}, 151: {9: 0, 19: 1}, 152: {8: 1, 4: 0}, 153: {21: 0}, 154: {8: 0, 20: 0}, 155: {18: 0, 21: 0}, 156: {11: 0, 20: 1, 23: 0}, 157: {0: 0, 2: 0}, 158: {16: 0, 27: 0}, 159: {9: 0, 23: 0}, 160: {9: 0, 27: 0}, 161: {9: 0}, 162: {11: 0}, 163: {26: 0}, 164: {12: 0}, 165: {8: 0}, 166: {9: 0.6666666666666667}, 167: {9: 0}, 168: {4: 1, 12: 0}, 169: {0: 0, 2: 0}, 170: {2: 0, 11: 0}, 171: {0: 0, 8: 0, 2: 1, 4: 0}, 172: {8: 0, 12: 0, 20: 0}, 173: {2: 1}, 174: {2: 1}, 175: {23: 0}, 176: {24: 0}, 177: {8: 1}, 178: {0: 0, 2: 0}, 179: {27: 0}, 180: {19: 0}, 181: {24: 0, 19: 0}, 182: {0: 0, 2: 0, 4: 0, 8: 0, 18: 0, 21: 0}, 183: {5: 0, 11: 0, 18: 0, 21: 0, 27: 0}, 184: {9: 0, 18: 0, 4: 0, 20: 0}, 185: {27: 0}, 186: {2: 0}, 187: {4: 0}, 188: {8: 0, 4: 1}, 189: {0: 0, 9: 0}, 190: {8: 0, 20: 0}, 191: {2: 0}, 192: {0: 0, 4: 1, 12: 1}, 193: {19: 1, 4: 1}, 194: {12: 0}, 195: {11: 0, 27: 1, 4: 0, 20: 0}, 196: {9: 0, 20: 0}, 197: {8: 0}, 198: {8: 0, 26: 1}, 199: {8: 0, 4: 0}, 200: {8: 0}, 201: {16: 0}, 202: {2: 0}, 203: {0: 0, 8: 0, 2: 0, 4: 0}, 204: {0: 0, 2: 0, 8: 0, 9: 0, 21: 0, 27: 0}, 205: {2: 1}, 206: {12: 1}, 207: {16: 0, 12: 0}, 208: {8: 0}, 209: {0: 0, 20: 0, 21: 0}, 210: {9: 1, 2: 0}, 211: {8: 1, 24: 1}, 212: {2: 0, 19: 1}, 213: {21: 0}, 214: {0: 0, 2: 0, 20: 0}, 215: {8: 0, 2: 0}, 216: {18: 0, 21: 0}, 217: {25: 0}, 218: {17: 0, 27: 0, 23: 0}, 219: {2: 0, 21: 0}, 220: {8: 0}, 221: {21: 0}, 222: {4: 0}, 223: {8: 0, 2: 0, 26: 0, 20: 1}, 224: {2: 1}, 225: {21: 0}, 226: {0: 0, 2: 0, 3: 0, 5: 0, 8: 0, 11: 0, 12: 0, 18: 0, 20: 0, 23: 0, 27: 0}, 227: {12: 0, 20: 0}, 228: {2: 1}, 229: {17: 0, 12: 0, 20: 0}, 230: {21: 0}, 231: {0: 0, 8: 0, 20: 0}, 232: {26: 0, 21: 0.5}, 233: {2: 0}, 234: {0: 0, 4: 0, 11: 0, 19: 0, 21: 0, 27: 0}, 235: {2: 0}, 236: {9: 0, 27: 0, 4: 0, 17: 0}, 237: {2: 0, 5: 0}}\n",
      "Class mAPs: {0: 0.0, 1: 0.0, 2: 0.18292682926829268, 3: 0.0, 4: 0.2, 5: 0.0, 6: 0.0, 7: 0.0, 8: 0.20833333333333334, 9: 0.21650055370985605, 11: 0.05263157894736842, 12: 0.12, 14: 0.0, 15: 0.0, 16: 0.0, 17: 0.14285714285714285, 18: 0.08333333333333333, 19: 0.42105263157894735, 20: 0.12946428571428573, 21: 0.140625, 23: 0.10526315789473684, 24: 0.2222222222222222, 25: 0.0, 26: 0.25, 27: 0.20833333333333334}\n"
     ]
    },
    {
     "data": {
      "text/plain": [
       "0.10734173608771408"
      ]
     },
     "execution_count": 8,
     "metadata": {},
     "output_type": "execute_result"
    }
   ],
   "source": [
    "print(f'mAP calculated wrongly: {calc_total_mAP(pred,truth)} and correctly {mAP_calc(pred,truth)}')\n",
    "\n",
    "calc_total_mAP(pred,truth)"
   ]
  },
  {
   "cell_type": "code",
   "execution_count": null,
   "metadata": {},
   "outputs": [
    {
     "data": {
      "text/plain": [
       "tensor(0.0664347485)"
      ]
     },
     "execution_count": 9,
     "metadata": {},
     "output_type": "execute_result"
    }
   ],
   "source": [
    "mAP_calc(pred,truth)"
   ]
  }
 ],
 "metadata": {
  "kernelspec": {
   "display_name": "Python 3 (ipykernel)",
   "language": "python",
   "name": "python3"
  },
  "language_info": {
   "codemirror_mode": {
    "name": "ipython",
    "version": 3
   },
   "file_extension": ".py",
   "mimetype": "text/x-python",
   "name": "python",
   "nbconvert_exporter": "python",
   "pygments_lexer": "ipython3",
   "version": "3.10.11"
  },
  "orig_nbformat": 4
 },
 "nbformat": 4,
 "nbformat_minor": 2
}
